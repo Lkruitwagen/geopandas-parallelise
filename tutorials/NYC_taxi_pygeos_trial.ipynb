{
 "cells": [
  {
   "cell_type": "markdown",
   "id": "corresponding-hughes",
   "metadata": {},
   "source": [
    "# Intro - NYC Taxi Example"
   ]
  },
  {
   "cell_type": "code",
   "execution_count": null,
   "id": "split-highlight",
   "metadata": {},
   "outputs": [],
   "source": [
    "import geopandas as gpd\n",
    "import time, os\n",
    "gpd.options.use_pygeos=False"
   ]
  },
  {
   "cell_type": "code",
   "execution_count": null,
   "id": "convenient-potter",
   "metadata": {},
   "outputs": [],
   "source": [
    "# from geopandas_parallelise import paralellise\n",
    "# parallelise(gpd)\n",
    "# gpd.sjoin(left,right,op, workers=XX)\n",
    "# gdf.buffer_utm(XXX, workers=XX, unit='m')"
   ]
  },
  {
   "cell_type": "code",
   "execution_count": null,
   "id": "rural-copper",
   "metadata": {},
   "outputs": [],
   "source": [
    "# set root path\n",
    "root = os.path.abspath(os.path.join(os.getcwd(),'..'))\n",
    "os.environ['PYTHONPATH'] = os.path.abspath(os.path.join(os.getcwd(),'..'))"
   ]
  },
  {
   "cell_type": "code",
   "execution_count": null,
   "id": "revolutionary-methodology",
   "metadata": {},
   "outputs": [],
   "source": [
    "### get some data"
   ]
  },
  {
   "cell_type": "code",
   "execution_count": null,
   "id": "dramatic-sheffield",
   "metadata": {},
   "outputs": [],
   "source": [
    "!wget -O $PYTHONPATH/data/zone_data.zip  https://archive.nyu.edu/retrieve/77439/nyu_2451_36743.zip --no-check-certificate -q"
   ]
  },
  {
   "cell_type": "code",
   "execution_count": null,
   "id": "moderate-straight",
   "metadata": {},
   "outputs": [],
   "source": [
    "!wget -O $PYTHONPATH/data/ride_data_apr.csv  https://github.com/fivethirtyeight/uber-tlc-foil-response/blob/master/uber-trip-data/uber-raw-data-apr14.csv?raw=true -q\n",
    "!wget -O $PYTHONPATH/data/ride_data_may.csv  https://github.com/fivethirtyeight/uber-tlc-foil-response/blob/master/uber-trip-data/uber-raw-data-may14.csv?raw=true -q\n",
    "!wget -O $PYTHONPATH/data/ride_data_jun.csv  https://github.com/fivethirtyeight/uber-tlc-foil-response/blob/master/uber-trip-data/uber-raw-data-jun14.csv?raw=true -q\n",
    "!wget -O $PYTHONPATH/data/ride_data_jul.csv  https://github.com/fivethirtyeight/uber-tlc-foil-response/blob/master/uber-trip-data/uber-raw-data-jul14.csv?raw=true -q\n",
    "!wget -O $PYTHONPATH/data/ride_data_aug.csv  https://github.com/fivethirtyeight/uber-tlc-foil-response/blob/master/uber-trip-data/uber-raw-data-aug14.csv?raw=true -q\n",
    "!wget -O $PYTHONPATH/data/ride_data_sep.csv  https://github.com/fivethirtyeight/uber-tlc-foil-response/blob/master/uber-trip-data/uber-raw-data-sep14.csv?raw=true -q"
   ]
  },
  {
   "cell_type": "code",
   "execution_count": null,
   "id": "rotary-capital",
   "metadata": {},
   "outputs": [],
   "source": [
    "import pandas as pd"
   ]
  },
  {
   "cell_type": "code",
   "execution_count": null,
   "id": "ceramic-thermal",
   "metadata": {},
   "outputs": [],
   "source": [
    "rides = pd.concat([pd.read_csv(os.path.join(root,'data',f'ride_data_{month}.csv')) for month in ['apr','may','jun','jul','aug','sep']])\n",
    "rides = gpd.GeoDataFrame(rides, geometry=gpd.points_from_xy(rides.Lon, rides.Lat))"
   ]
  },
  {
   "cell_type": "code",
   "execution_count": null,
   "id": "celtic-tyler",
   "metadata": {},
   "outputs": [],
   "source": [
    "zones = gpd.read_file('zip://'+os.path.join(root,'data','zone_data.zip'))"
   ]
  },
  {
   "cell_type": "code",
   "execution_count": null,
   "id": "behind-chess",
   "metadata": {},
   "outputs": [],
   "source": [
    "# Spatial Join\n",
    "start_time = time.time() \n",
    "sjoined = gpd.sjoin(rides, zones, op=\"within\")\n",
    "print(\"It takes %s seconds\" % (time.time() - start_time))"
   ]
  },
  {
   "cell_type": "code",
   "execution_count": null,
   "id": "oriented-posting",
   "metadata": {},
   "outputs": [],
   "source": []
  }
 ],
 "metadata": {
  "environment": {
   "name": "common-cpu.mnightly-2021-02-12-ubuntu-1804-test",
   "type": "gcloud",
   "uri": "gcr.io/deeplearning-platform-release/base-cpu:mnightly-2021-02-12-ubuntu-1804-test"
  },
  "kernelspec": {
   "display_name": "Python [conda env:miniconda3-geoml]",
   "language": "python",
   "name": "conda-env-miniconda3-geoml-py"
  },
  "language_info": {
   "codemirror_mode": {
    "name": "ipython",
    "version": 3
   },
   "file_extension": ".py",
   "mimetype": "text/x-python",
   "name": "python",
   "nbconvert_exporter": "python",
   "pygments_lexer": "ipython3",
   "version": "3.8.5"
  }
 },
 "nbformat": 4,
 "nbformat_minor": 5
}
