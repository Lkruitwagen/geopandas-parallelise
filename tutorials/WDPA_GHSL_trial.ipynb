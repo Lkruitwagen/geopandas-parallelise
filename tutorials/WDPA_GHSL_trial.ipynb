{
 "cells": [
  {
   "cell_type": "markdown",
   "id": "invalid-threshold",
   "metadata": {},
   "source": [
    "# Something a little harder - buffer  & spatial join WDPA and GHSL"
   ]
  },
  {
   "cell_type": "code",
   "execution_count": null,
   "id": "nervous-trauma",
   "metadata": {},
   "outputs": [],
   "source": [
    "import geopandas as gpd\n",
    "import time, os, sys\n",
    "gpd.options.use_pygeos=True"
   ]
  },
  {
   "cell_type": "code",
   "execution_count": null,
   "id": "nuclear-threat",
   "metadata": {},
   "outputs": [],
   "source": [
    "import pygeos"
   ]
  },
  {
   "cell_type": "code",
   "execution_count": null,
   "id": "close-manner",
   "metadata": {},
   "outputs": [],
   "source": [
    "# from geopandas_parallelise import paralellise\n",
    "# parallelise(gpd)\n",
    "# gpd.sjoin(left,right,op, workers=XX)\n",
    "# gdf.buffer_utm(XXX, workers=XX, unit='m')"
   ]
  },
  {
   "cell_type": "code",
   "execution_count": null,
   "id": "bored-riverside",
   "metadata": {},
   "outputs": [],
   "source": [
    "# set root path\n",
    "root = os.path.abspath(os.path.join(os.getcwd(),'..'))\n",
    "os.environ['PYTHONPATH'] = root\n",
    "sys.path.append(root)"
   ]
  },
  {
   "cell_type": "markdown",
   "id": "brief-pharmacy",
   "metadata": {},
   "source": [
    "## Load the Data"
   ]
  },
  {
   "cell_type": "code",
   "execution_count": null,
   "id": "found-temperature",
   "metadata": {},
   "outputs": [],
   "source": [
    "### get some data"
   ]
  },
  {
   "cell_type": "code",
   "execution_count": null,
   "id": "guided-devil",
   "metadata": {},
   "outputs": [],
   "source": [
    "!wget -O $PYTHONPATH/data/wdpa.zip https://d1gam3xoknrgr2.cloudfront.net/current/WDPA_Feb2021_Public_shp.zip"
   ]
  },
  {
   "cell_type": "code",
   "execution_count": null,
   "id": "silver-numbers",
   "metadata": {},
   "outputs": [],
   "source": [
    "!wget -O $PYTHONPATH/data/ghsl.zip http://cidportal.jrc.ec.europa.eu/ftp/jrc-opendata/GHSL/GHS_STAT_UCDB2015MT_GLOBE_R2019A/V1-2/GHS_STAT_UCDB2015MT_GLOBE_R2019A.zip"
   ]
  },
  {
   "cell_type": "code",
   "execution_count": null,
   "id": "powerful-murray",
   "metadata": {},
   "outputs": [],
   "source": [
    "from zipfile import ZipFile"
   ]
  },
  {
   "cell_type": "code",
   "execution_count": null,
   "id": "lyric-asset",
   "metadata": {},
   "outputs": [],
   "source": [
    "with ZipFile(os.path.join(root,'data','wdpa.zip'), 'r') as z:\n",
    "    z.extractall(os.path.join(root,'data'))"
   ]
  },
  {
   "cell_type": "code",
   "execution_count": null,
   "id": "affected-singapore",
   "metadata": {},
   "outputs": [],
   "source": [
    "wdpa = gpd.read_file('zip://'+os.path.join(root,'data','WDPA_Feb2021_Public_shp_0.zip!WDPA_Feb2021_Public_shp-polygons.shp'))"
   ]
  },
  {
   "cell_type": "code",
   "execution_count": null,
   "id": "civic-purchase",
   "metadata": {},
   "outputs": [],
   "source": [
    "ghsl = gpd.read_file('zip://'+os.path.join(root,'data','ghsl.zip!GHS_STAT_UCDB2015MT_GLOBE_R2019A/GHS_STAT_UCDB2015MT_GLOBE_R2019A_V1_2.gpkg'))"
   ]
  },
  {
   "cell_type": "markdown",
   "id": "blind-firmware",
   "metadata": {},
   "source": [
    "## Plot the data"
   ]
  },
  {
   "cell_type": "code",
   "execution_count": null,
   "id": "respiratory-worcester",
   "metadata": {},
   "outputs": [],
   "source": [
    "import matplotlib.pyplot as plt"
   ]
  },
  {
   "cell_type": "code",
   "execution_count": null,
   "id": "veterinary-division",
   "metadata": {},
   "outputs": [],
   "source": [
    "fig,ax = plt.subplots(1,1,figsize=(24,16))\n",
    "wdpa.plot(ax=ax,color='g')\n",
    "ghsl.plot(ax=ax,color='r')\n",
    "plt.show()"
   ]
  },
  {
   "cell_type": "markdown",
   "id": "flush-alberta",
   "metadata": {},
   "source": [
    "## Do a buffered intersect"
   ]
  },
  {
   "cell_type": "code",
   "execution_count": null,
   "id": "behavioral-things",
   "metadata": {},
   "outputs": [],
   "source": [
    "from geopandas_parallelise.buffer import *"
   ]
  },
  {
   "cell_type": "code",
   "execution_count": null,
   "id": "consecutive-accountability",
   "metadata": {},
   "outputs": [],
   "source": [
    "buffer_dist=10000\n",
    "n_workers=4"
   ]
  },
  {
   "cell_type": "code",
   "execution_count": null,
   "id": "effective-accused",
   "metadata": {},
   "outputs": [],
   "source": [
    "start_time = time.time()\n",
    "ghsl['buffer_geom'] = mp_buffer(ghsl,buffer_dist,n_workers)\n",
    "print (f'elapsed_time {time.time()-start_time}s')"
   ]
  },
  {
   "cell_type": "code",
   "execution_count": null,
   "id": "cubic-grade",
   "metadata": {},
   "outputs": [],
   "source": [
    "ghsl = ghsl.set_geometry('buffer_geom')"
   ]
  },
  {
   "cell_type": "code",
   "execution_count": null,
   "id": "agreed-shape",
   "metadata": {},
   "outputs": [],
   "source": [
    "# Plot again\n",
    "fig,ax = plt.subplots(1,1,figsize=(24,16))\n",
    "wdpa.plot(ax=ax,color='g')\n",
    "ghsl.plot(ax=ax,color='r')\n",
    "plt.show()"
   ]
  },
  {
   "cell_type": "markdown",
   "id": "musical-detroit",
   "metadata": {},
   "source": [
    "## Do a spatial join with buffered data"
   ]
  },
  {
   "cell_type": "code",
   "execution_count": null,
   "id": "infectious-restaurant",
   "metadata": {},
   "outputs": [],
   "source": [
    "from geopandas_parallelise.sjoin import *"
   ]
  },
  {
   "cell_type": "code",
   "execution_count": null,
   "id": "federal-closer",
   "metadata": {},
   "outputs": [],
   "source": [
    "# spatial join\n",
    "start_time = time.time()\n",
    "joined = mp_sjoin(ghsl,wdpa,n_workers=4,how='inner',op='intersects')\n",
    "print (f'Spatial joined time {time.time()-start_time}')"
   ]
  },
  {
   "cell_type": "code",
   "execution_count": null,
   "id": "varied-grammar",
   "metadata": {},
   "outputs": [],
   "source": []
  }
 ],
 "metadata": {
  "environment": {
   "name": "common-cpu.mnightly-2021-02-12-ubuntu-1804-test",
   "type": "gcloud",
   "uri": "gcr.io/deeplearning-platform-release/base-cpu:mnightly-2021-02-12-ubuntu-1804-test"
  },
  "kernelspec": {
   "display_name": "Python [conda env:miniconda3-geoml]",
   "language": "python",
   "name": "conda-env-miniconda3-geoml-py"
  },
  "language_info": {
   "codemirror_mode": {
    "name": "ipython",
    "version": 3
   },
   "file_extension": ".py",
   "mimetype": "text/x-python",
   "name": "python",
   "nbconvert_exporter": "python",
   "pygments_lexer": "ipython3",
   "version": "3.8.5"
  }
 },
 "nbformat": 4,
 "nbformat_minor": 5
}
